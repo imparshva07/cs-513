{
 "cells": [
  {
   "cell_type": "code",
   "execution_count": 66,
   "id": "3ed95ef6",
   "metadata": {},
   "outputs": [],
   "source": [
    "# Name : Parshva Shah\n",
    "# CWID : 20027093\n",
    "# Assignment/lab - 9 - HW09.1_Cluster\n",
    "# hclust"
   ]
  },
  {
   "cell_type": "code",
   "execution_count": 67,
   "id": "39891583",
   "metadata": {},
   "outputs": [],
   "source": [
    "# Import Required Libraries\n",
    "import pandas as pd\n",
    "from sklearn.cluster import AgglomerativeClustering\n",
    "from sklearn.preprocessing import StandardScaler\n",
    "from scipy.cluster.hierarchy import linkage, dendrogram\n",
    "from scipy.cluster import hierarchy\n",
    "import matplotlib.pyplot as plt"
   ]
  },
  {
   "cell_type": "code",
   "execution_count": 68,
   "id": "8d25626d",
   "metadata": {},
   "outputs": [],
   "source": [
    "# Load the dataset\n",
    "df = pd.read_csv(\"wisc_bc_ContinuousVar.csv\")"
   ]
  },
  {
   "cell_type": "code",
   "execution_count": 69,
   "id": "908fd9d8",
   "metadata": {},
   "outputs": [],
   "source": [
    "# Remove rows with missing values as mentioned in the problem\n",
    "df.dropna(inplace=True)"
   ]
  },
  {
   "cell_type": "code",
   "execution_count": 70,
   "id": "b0ff2858",
   "metadata": {},
   "outputs": [],
   "source": [
    "# load target variable \n",
    "X = df.drop(columns=['diagnosis'])\n",
    "y = df['diagnosis']"
   ]
  },
  {
   "cell_type": "code",
   "execution_count": 71,
   "id": "107d53a1",
   "metadata": {},
   "outputs": [],
   "source": [
    "# Standardization\n",
    "scaler = StandardScaler()\n",
    "X_scaled = scaler.fit_transform(X)"
   ]
  },
  {
   "cell_type": "code",
   "execution_count": 72,
   "id": "4e237a3a",
   "metadata": {},
   "outputs": [],
   "source": [
    "# Using Hierarchical clustering using Agglomerative Methods (hclust)\n",
    "hclust = AgglomerativeClustering(n_clusters=2)\n",
    "hclust_labels = hclust.fit_predict(X_scaled)"
   ]
  },
  {
   "cell_type": "code",
   "execution_count": 73,
   "id": "17691b0e",
   "metadata": {},
   "outputs": [],
   "source": [
    "# Add cluster labels to be able to tabulate later\n",
    "df['hclust'] = hclust_labels"
   ]
  },
  {
   "cell_type": "code",
   "execution_count": 74,
   "id": "6d859abc",
   "metadata": {},
   "outputs": [
    {
     "name": "stdout",
     "output_type": "stream",
     "text": [
      " Tabulated Clustering against diagnosis (hclust):\n",
      " hclust       0    1\n",
      "diagnosis          \n",
      "B           24  333\n",
      "M          170   42\n"
     ]
    }
   ],
   "source": [
    "# Tabulate the clustered rows against the \"diagnosis\" column\n",
    "hclust_tabulated = pd.crosstab(df['diagnosis'], df['hclust'])\n",
    "\n",
    "print(\" Tabulated Clustering against diagnosis (hclust):\\n\", hclust_tabulated)"
   ]
  },
  {
   "cell_type": "code",
   "execution_count": 75,
   "id": "9cd4baf1",
   "metadata": {},
   "outputs": [],
   "source": [
    "# for dendrograms\n",
    "# Calculate the linkage matrix\n",
    "linkage_matrix = hierarchy.linkage(X_scaled, method='ward')"
   ]
  },
  {
   "cell_type": "code",
   "execution_count": 76,
   "id": "2e791fb6",
   "metadata": {},
   "outputs": [
    {
     "data": {
      "image/png": "[encoded data removed]",
      "text/plain": [
       "<Figure size 864x432 with 1 Axes>"
      ]
     },
     "metadata": {
      "needs_background": "light"
     },
     "output_type": "display_data"
    }
   ],
   "source": [
    "# Plot the dendrogram\n",
    "plt.figure(figsize=(12, 6))\n",
    "dendrogram = hierarchy.dendrogram(linkage_matrix, p=2, truncate_mode='level', labels=hclust_labels)\n",
    "plt.title('Dendrogram for Hierarchical Clustering (hclust)'.format(2))\n",
    "plt.xlabel('Data points')\n",
    "plt.ylabel('Distance')\n",
    "plt.show()"
   ]
  },
  {
   "cell_type": "code",
   "execution_count": null,
   "id": "5401837e",
   "metadata": {},
   "outputs": [],
   "source": []
  }
 ],
 "metadata": {
  "kernelspec": {
   "display_name": "Python 3",
   "language": "python",
   "name": "python3"
  },
  "language_info": {
   "codemirror_mode": {
    "name": "ipython",
    "version": 3
   },
   "file_extension": ".py",
   "mimetype": "text/x-python",
   "name": "python",
   "nbconvert_exporter": "python",
   "pygments_lexer": "ipython3",
   "version": "3.8.8"
  }
 },
 "nbformat": 4,
 "nbformat_minor": 5
}

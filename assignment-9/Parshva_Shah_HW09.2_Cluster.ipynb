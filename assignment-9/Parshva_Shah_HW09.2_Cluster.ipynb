{
 "cells": [
  {
   "cell_type": "code",
   "execution_count": 8,
   "id": "5351d72d",
   "metadata": {},
   "outputs": [],
   "source": [
    "# Name : Parshva Shah\n",
    "# CWID : 20027093\n",
    "# Assignment/lab - 9 - HW09.2_Cluster\n",
    "# k-means"
   ]
  },
  {
   "cell_type": "code",
   "execution_count": 9,
   "id": "58495ece",
   "metadata": {},
   "outputs": [],
   "source": [
    "# Import Required Libraries\n",
    "import pandas as pd\n",
    "from sklearn.cluster import KMeans\n",
    "from sklearn.preprocessing import StandardScaler"
   ]
  },
  {
   "cell_type": "code",
   "execution_count": 10,
   "id": "02fb9d07",
   "metadata": {},
   "outputs": [],
   "source": [
    "# Load the dataset\n",
    "df = pd.read_csv(\"wisc_bc_ContinuousVar.csv\")\n",
    "\n",
    "# Remove rows with missing values\n",
    "df.dropna(inplace=True)"
   ]
  },
  {
   "cell_type": "code",
   "execution_count": 11,
   "id": "81c13222",
   "metadata": {},
   "outputs": [],
   "source": [
    "# load features \n",
    "X = df.drop(columns=['diagnosis'])\n",
    "y = df['diagnosis']"
   ]
  },
  {
   "cell_type": "code",
   "execution_count": 12,
   "id": "1a066d3b",
   "metadata": {},
   "outputs": [],
   "source": [
    "# Standardization\n",
    "scaler = StandardScaler()\n",
    "X_scaled = scaler.fit_transform(X)"
   ]
  },
  {
   "cell_type": "code",
   "execution_count": 13,
   "id": "2b4558d0",
   "metadata": {},
   "outputs": [],
   "source": [
    "# Apply K-means clustering\n",
    "kmeans = KMeans(n_clusters=2, random_state=42)\n",
    "kmeans_labels = kmeans.fit_predict(X_scaled)"
   ]
  },
  {
   "cell_type": "code",
   "execution_count": 14,
   "id": "6f91ccd0",
   "metadata": {},
   "outputs": [
    {
     "name": "stdout",
     "output_type": "stream",
     "text": [
      "Tabulated Clustering against diagnosis (hclust) with K-means Clustering:\n",
      " kmeans_cluster    0    1\n",
      "diagnosis               \n",
      "B                14  343\n",
      "M               175   37\n"
     ]
    }
   ],
   "source": [
    "# Add labels to the dataframe\n",
    "df['kmeans_cluster'] = kmeans_labels\n",
    "\n",
    "# Tabulate the clustered rows against the \"diagnosis\" column\n",
    "kmeans_tabulated = pd.crosstab(df['diagnosis'], df['kmeans_cluster'])\n",
    "\n",
    "print(\"Tabulated Clustering against diagnosis (hclust) with K-means Clustering:\\n\", kmeans_tabulated)\n"
   ]
  },
  {
   "cell_type": "code",
   "execution_count": null,
   "id": "e2146d8f",
   "metadata": {},
   "outputs": [],
   "source": []
  },
  {
   "cell_type": "code",
   "execution_count": null,
   "id": "bd7d54ec",
   "metadata": {},
   "outputs": [],
   "source": []
  }
 ],
 "metadata": {
  "kernelspec": {
   "display_name": "Python 3",
   "language": "python",
   "name": "python3"
  },
  "language_info": {
   "codemirror_mode": {
    "name": "ipython",
    "version": 3
   },
   "file_extension": ".py",
   "mimetype": "text/x-python",
   "name": "python",
   "nbconvert_exporter": "python",
   "pygments_lexer": "ipython3",
   "version": "3.8.8"
  }
 },
 "nbformat": 4,
 "nbformat_minor": 5
}

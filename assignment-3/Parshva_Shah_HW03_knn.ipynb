{
 "cells": [
  {
   "cell_type": "code",
   "execution_count": 14,
   "id": "30c35031",
   "metadata": {},
   "outputs": [],
   "source": [
    "#Name : Parshva Shah\n",
    "#CWID : 20027093\n",
    "#Assignment/lab - 3 - HW03_knn\n",
    "#Load the “breast-cancer-wisconsin.data.csv” from canvas into R/Python and Use the knn methodology (k=3,5 and 10) to develop a classification models for\n",
    "#the Diagnosis."
   ]
  },
  {
   "cell_type": "code",
   "execution_count": 15,
   "id": "18f08c49",
   "metadata": {},
   "outputs": [],
   "source": [
    "import pandas as pd\n",
    "import numpy as np\n",
    "import matplotlib.pyplot as plt"
   ]
  },
  {
   "cell_type": "code",
   "execution_count": 16,
   "id": "2f5c7b45",
   "metadata": {},
   "outputs": [],
   "source": [
    "from sklearn.model_selection import train_test_split\n",
    "from sklearn.neighbors import KNeighborsClassifier\n",
    "from sklearn.metrics import accuracy_score"
   ]
  },
  {
   "cell_type": "code",
   "execution_count": 17,
   "id": "934ebe49",
   "metadata": {},
   "outputs": [
    {
     "name": "stdout",
     "output_type": "stream",
     "text": [
      "             Sample          F1          F2          F3          F4  \\\n",
      "count  6.990000e+02  699.000000  699.000000  699.000000  699.000000   \n",
      "mean   1.071704e+06    4.417740    3.134478    3.207439    2.806867   \n",
      "std    6.170957e+05    2.815741    3.051459    2.971913    2.855379   \n",
      "min    6.163400e+04    1.000000    1.000000    1.000000    1.000000   \n",
      "25%    8.706885e+05    2.000000    1.000000    1.000000    1.000000   \n",
      "50%    1.171710e+06    4.000000    1.000000    1.000000    1.000000   \n",
      "75%    1.238298e+06    6.000000    5.000000    5.000000    4.000000   \n",
      "max    1.345435e+07   10.000000   10.000000   10.000000   10.000000   \n",
      "\n",
      "               F5          F6          F7          F8          F9       Class  \n",
      "count  699.000000  683.000000  699.000000  699.000000  699.000000  699.000000  \n",
      "mean     3.216023    3.544656    3.437768    2.866953    1.589413    2.689557  \n",
      "std      2.214300    3.643857    2.438364    3.053634    1.715078    0.951273  \n",
      "min      1.000000    1.000000    1.000000    1.000000    1.000000    2.000000  \n",
      "25%      2.000000    1.000000    2.000000    1.000000    1.000000    2.000000  \n",
      "50%      2.000000    1.000000    3.000000    1.000000    1.000000    2.000000  \n",
      "75%      4.000000    6.000000    5.000000    4.000000    1.000000    4.000000  \n",
      "max     10.000000   10.000000   10.000000   10.000000   10.000000    4.000000  \n"
     ]
    },
    {
     "data": {
      "text/html": [
       "<div>\n",
       "<style scoped>\n",
       "    .dataframe tbody tr th:only-of-type {\n",
       "        vertical-align: middle;\n",
       "    }\n",
       "\n",
       "    .dataframe tbody tr th {\n",
       "        vertical-align: top;\n",
       "    }\n",
       "\n",
       "    .dataframe thead th {\n",
       "        text-align: right;\n",
       "    }\n",
       "</style>\n",
       "<table border=\"1\" class=\"dataframe\">\n",
       "  <thead>\n",
       "    <tr style=\"text-align: right;\">\n",
       "      <th></th>\n",
       "      <th>Sample</th>\n",
       "      <th>F1</th>\n",
       "      <th>F2</th>\n",
       "      <th>F3</th>\n",
       "      <th>F4</th>\n",
       "      <th>F5</th>\n",
       "      <th>F6</th>\n",
       "      <th>F7</th>\n",
       "      <th>F8</th>\n",
       "      <th>F9</th>\n",
       "      <th>Class</th>\n",
       "    </tr>\n",
       "  </thead>\n",
       "  <tbody>\n",
       "    <tr>\n",
       "      <th>0</th>\n",
       "      <td>1000025</td>\n",
       "      <td>5</td>\n",
       "      <td>1</td>\n",
       "      <td>1</td>\n",
       "      <td>1</td>\n",
       "      <td>2</td>\n",
       "      <td>1.0</td>\n",
       "      <td>3</td>\n",
       "      <td>1</td>\n",
       "      <td>1</td>\n",
       "      <td>2</td>\n",
       "    </tr>\n",
       "    <tr>\n",
       "      <th>1</th>\n",
       "      <td>1002945</td>\n",
       "      <td>5</td>\n",
       "      <td>4</td>\n",
       "      <td>4</td>\n",
       "      <td>5</td>\n",
       "      <td>7</td>\n",
       "      <td>10.0</td>\n",
       "      <td>3</td>\n",
       "      <td>2</td>\n",
       "      <td>1</td>\n",
       "      <td>2</td>\n",
       "    </tr>\n",
       "    <tr>\n",
       "      <th>2</th>\n",
       "      <td>1015425</td>\n",
       "      <td>3</td>\n",
       "      <td>1</td>\n",
       "      <td>1</td>\n",
       "      <td>1</td>\n",
       "      <td>2</td>\n",
       "      <td>2.0</td>\n",
       "      <td>3</td>\n",
       "      <td>1</td>\n",
       "      <td>1</td>\n",
       "      <td>2</td>\n",
       "    </tr>\n",
       "    <tr>\n",
       "      <th>3</th>\n",
       "      <td>1016277</td>\n",
       "      <td>6</td>\n",
       "      <td>8</td>\n",
       "      <td>8</td>\n",
       "      <td>1</td>\n",
       "      <td>3</td>\n",
       "      <td>4.0</td>\n",
       "      <td>3</td>\n",
       "      <td>7</td>\n",
       "      <td>1</td>\n",
       "      <td>2</td>\n",
       "    </tr>\n",
       "    <tr>\n",
       "      <th>4</th>\n",
       "      <td>1017023</td>\n",
       "      <td>4</td>\n",
       "      <td>1</td>\n",
       "      <td>1</td>\n",
       "      <td>3</td>\n",
       "      <td>2</td>\n",
       "      <td>1.0</td>\n",
       "      <td>3</td>\n",
       "      <td>1</td>\n",
       "      <td>1</td>\n",
       "      <td>2</td>\n",
       "    </tr>\n",
       "  </tbody>\n",
       "</table>\n",
       "</div>"
      ],
      "text/plain": [
       "    Sample  F1  F2  F3  F4  F5    F6  F7  F8  F9  Class\n",
       "0  1000025   5   1   1   1   2   1.0   3   1   1      2\n",
       "1  1002945   5   4   4   5   7  10.0   3   2   1      2\n",
       "2  1015425   3   1   1   1   2   2.0   3   1   1      2\n",
       "3  1016277   6   8   8   1   3   4.0   3   7   1      2\n",
       "4  1017023   4   1   1   3   2   1.0   3   1   1      2"
      ]
     },
     "execution_count": 17,
     "metadata": {},
     "output_type": "execute_result"
    }
   ],
   "source": [
    "df = pd.read_csv('E:/parshva/Course materials/CS 513 - KDD/assignments/assignment-2/breast-cancer-wisconsin.csv',na_values='?')\n",
    "\n",
    "print(df.describe())\n",
    "df.head()"
   ]
  },
  {
   "cell_type": "code",
   "execution_count": 18,
   "id": "86a8e849",
   "metadata": {},
   "outputs": [],
   "source": [
    "df['F6'].fillna(df['F6'].mean(),inplace=True)"
   ]
  },
  {
   "cell_type": "code",
   "execution_count": 19,
   "id": "6891da8c",
   "metadata": {},
   "outputs": [
    {
     "name": "stdout",
     "output_type": "stream",
     "text": [
      "\n",
      " check for missing value\n",
      "Sample    0\n",
      "F1        0\n",
      "F2        0\n",
      "F3        0\n",
      "F4        0\n",
      "F5        0\n",
      "F6        0\n",
      "F7        0\n",
      "F8        0\n",
      "F9        0\n",
      "Class     0\n",
      "dtype: int64\n"
     ]
    }
   ],
   "source": [
    "print(\"\\n check for missing value\")\n",
    "print(df.isnull().sum())"
   ]
  },
  {
   "cell_type": "code",
   "execution_count": 20,
   "id": "31195e42",
   "metadata": {},
   "outputs": [],
   "source": [
    "except_columns = ['Sample','Class']\n",
    "X = df.drop(except_columns, axis=1)\n",
    "y = df['Class']"
   ]
  },
  {
   "cell_type": "code",
   "execution_count": 21,
   "id": "1d68b6a4",
   "metadata": {},
   "outputs": [],
   "source": [
    "X_train, X_test, y_train, y_test = train_test_split(X, y, test_size=0.3, random_state=77)"
   ]
  },
  {
   "cell_type": "code",
   "execution_count": 22,
   "id": "5fc427e1",
   "metadata": {},
   "outputs": [
    {
     "name": "stdout",
     "output_type": "stream",
     "text": [
      "k-NN (k=3) Accuracy: 0.9714\n",
      "k-NN (k=5) Accuracy: 0.9762\n",
      "k-NN (k=10) Accuracy: 0.9667\n"
     ]
    }
   ],
   "source": [
    "# Train k-NN classifiers with k = 3 5 10\n",
    "for k in [3, 5, 10]:\n",
    "    # Initialize k-NN classifier\n",
    "    knn = KNeighborsClassifier(n_neighbors=k)\n",
    "    \n",
    "    # Train the classifier\n",
    "    knn.fit(X_train, y_train)\n",
    "    \n",
    "    # Predict the labels for the test set\n",
    "    y_pred = knn.predict(X_test)\n",
    "    \n",
    "    # Evaluate the performance of the classifier\n",
    "    accuracy = accuracy_score(y_test, y_pred)\n",
    "    print(f'k-NN (k={k}) Accuracy: {accuracy:.4f}')"
   ]
  }
 ],
 "metadata": {
  "kernelspec": {
   "display_name": "Python 3",
   "language": "python",
   "name": "python3"
  },
  "language_info": {
   "codemirror_mode": {
    "name": "ipython",
    "version": 3
   },
   "file_extension": ".py",
   "mimetype": "text/x-python",
   "name": "python",
   "nbconvert_exporter": "python",
   "pygments_lexer": "ipython3",
   "version": "3.8.8"
  }
 },
 "nbformat": 4,
 "nbformat_minor": 5
}

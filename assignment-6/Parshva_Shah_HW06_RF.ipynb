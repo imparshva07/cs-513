{
 "cells": [
  {
   "cell_type": "code",
   "execution_count": 40,
   "id": "3ebcf6bf",
   "metadata": {},
   "outputs": [],
   "source": [
    "# Name : Parshva Shah\n",
    "# CWID : 20027093\n",
    "# Assignment/lab - 6 - HW06_RF\n",
    "# Use the Random Forest methodology to develop a classification model for the\n",
    "# Diagnosis and identify important features."
   ]
  },
  {
   "cell_type": "code",
   "execution_count": 41,
   "id": "ba7b10ff",
   "metadata": {},
   "outputs": [],
   "source": [
    "# import required libraries\n",
    "import pandas as pd\n",
    "from sklearn.ensemble import RandomForestClassifier\n",
    "from sklearn.model_selection import train_test_split\n",
    "from sklearn.metrics import classification_report, confusion_matrix, accuracy_score"
   ]
  },
  {
   "cell_type": "code",
   "execution_count": 42,
   "id": "65ea23bb",
   "metadata": {},
   "outputs": [],
   "source": [
    "# load the dataset\n",
    "data = pd.read_csv(\"breast-cancer-wisconsin.csv\",na_values='?')\n",
    "data.dropna(inplace=True)"
   ]
  },
  {
   "cell_type": "code",
   "execution_count": 43,
   "id": "9bcc7455",
   "metadata": {},
   "outputs": [],
   "source": [
    "# Split features and target variable\n",
    "X = data.drop(columns=[\"Class\", \"Sample\"])\n",
    "y = data[\"Class\"]"
   ]
  },
  {
   "cell_type": "code",
   "execution_count": 44,
   "id": "c4e5d8cb",
   "metadata": {},
   "outputs": [],
   "source": [
    "# Split the data into training and testing sets\n",
    "X_train, X_test, y_train, y_test = train_test_split(X, y, test_size=0.3, random_state=602)"
   ]
  },
  {
   "cell_type": "code",
   "execution_count": 45,
   "id": "035f648f",
   "metadata": {},
   "outputs": [
    {
     "data": {
      "text/plain": [
       "RandomForestClassifier()"
      ]
     },
     "execution_count": 45,
     "metadata": {},
     "output_type": "execute_result"
    }
   ],
   "source": [
    "# Train the Random Forest model\n",
    "rf_model = RandomForestClassifier()\n",
    "rf_model.fit(X_train, y_train)"
   ]
  },
  {
   "cell_type": "code",
   "execution_count": 46,
   "id": "9ae6ec9a",
   "metadata": {},
   "outputs": [
    {
     "name": "stdout",
     "output_type": "stream",
     "text": [
      "Classification Report for Random Forest:\n",
      "              precision    recall  f1-score   support\n",
      "\n",
      "           2       0.98      0.98      0.98       131\n",
      "           4       0.96      0.96      0.96        74\n",
      "\n",
      "    accuracy                           0.97       205\n",
      "   macro avg       0.97      0.97      0.97       205\n",
      "weighted avg       0.97      0.97      0.97       205\n",
      "\n",
      "Accuracy for Random Forest model: 0.9707317073170731\n"
     ]
    }
   ],
   "source": [
    "# Evaluate the Random Forest model\n",
    "rf_predictions = rf_model.predict(X_test)\n",
    "print(\"Classification Report for Random Forest:\")\n",
    "print(classification_report(y_test, rf_predictions))\n",
    "# Calculate and print accuracy\n",
    "accuracy = accuracy_score(y_test, rf_predictions)\n",
    "print(\"Accuracy for Random Forest model:\", accuracy)"
   ]
  },
  {
   "cell_type": "code",
   "execution_count": 47,
   "id": "1aba17a7",
   "metadata": {},
   "outputs": [
    {
     "name": "stdout",
     "output_type": "stream",
     "text": [
      "Confusion Matrix for C5.0:\n",
      "[[128   3]\n",
      " [  3  71]]\n"
     ]
    }
   ],
   "source": [
    "# Generate and print confusion matrix\n",
    "conf_matrix = confusion_matrix(y_test, rf_predictions)\n",
    "print(\"Confusion Matrix for C5.0:\")\n",
    "print(conf_matrix)"
   ]
  },
  {
   "cell_type": "code",
   "execution_count": 48,
   "id": "dd510eab",
   "metadata": {},
   "outputs": [
    {
     "name": "stdout",
     "output_type": "stream",
     "text": [
      "\n",
      "Important Features:\n",
      "  Feature  Importance\n",
      "0      F1    0.039262\n",
      "1      F2    0.303984\n",
      "2      F3    0.175819\n",
      "3      F4    0.043349\n",
      "4      F5    0.061218\n",
      "5      F6    0.156046\n",
      "6      F7    0.148362\n",
      "7      F8    0.066345\n",
      "8      F9    0.005615\n"
     ]
    }
   ],
   "source": [
    "# Identify important features for Random Forest model\n",
    "importances = rf_model.feature_importances_\n",
    "feature_names = X.columns\n",
    "important_features = pd.DataFrame({'Feature': feature_names, 'Importance': importances})\n",
    "print(\"\\nImportant Features:\")\n",
    "print(important_features)"
   ]
  },
  {
   "cell_type": "code",
   "execution_count": null,
   "id": "6c8ac07b",
   "metadata": {},
   "outputs": [],
   "source": []
  }
 ],
 "metadata": {
  "kernelspec": {
   "display_name": "Python 3",
   "language": "python",
   "name": "python3"
  },
  "language_info": {
   "codemirror_mode": {
    "name": "ipython",
    "version": 3
   },
   "file_extension": ".py",
   "mimetype": "text/x-python",
   "name": "python",
   "nbconvert_exporter": "python",
   "pygments_lexer": "ipython3",
   "version": "3.8.8"
  }
 },
 "nbformat": 4,
 "nbformat_minor": 5
}

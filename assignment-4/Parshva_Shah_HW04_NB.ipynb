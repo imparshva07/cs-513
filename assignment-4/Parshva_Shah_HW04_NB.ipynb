{
 "cells": [
  {
   "cell_type": "code",
   "execution_count": 87,
   "id": "38c52c59",
   "metadata": {},
   "outputs": [],
   "source": [
    "# Name : Parshva Shah\n",
    "# CWID : 20027093\n",
    "# Assignment/lab - 4 - HW04_NB\n",
    "# Load the “breast-cancer-wisconsin.data.csv” from canvas into R/Python and Use Naïve Bayes methodology to develop a classification model for the\n",
    "# Diagnosis"
   ]
  },
  {
   "cell_type": "code",
   "execution_count": 88,
   "id": "95bcabbc",
   "metadata": {},
   "outputs": [],
   "source": [
    "# import requireds\n",
    "import pandas as pd\n",
    "import numpy as np\n",
    "from sklearn.model_selection import train_test_split\n",
    "from sklearn.naive_bayes import GaussianNB\n",
    "from sklearn.metrics import accuracy_score, confusion_matrix, classification_report\n",
    "import matplotlib.pyplot as plt\n",
    "import seaborn as sns"
   ]
  },
  {
   "cell_type": "code",
   "execution_count": 89,
   "id": "4e724098",
   "metadata": {},
   "outputs": [],
   "source": [
    "# Handle data\n",
    "\n",
    "# Load the dataset\n",
    "df = pd.read_csv('E:/parshva/Course materials/CS 513 - KDD/assignments/assignment-4/breast-cancer-wisconsin.csv',na_values='?')\n",
    "\n",
    "# replace with mean\n",
    "df['F6'].fillna(df['F6'].median(), inplace=True)\n"
   ]
  },
  {
   "cell_type": "code",
   "execution_count": 90,
   "id": "a99d0434",
   "metadata": {},
   "outputs": [],
   "source": [
    "# Feature conversion\n",
    "\n",
    "# Convert features to numeric\n",
    "df['Class'] = df['Class'].map({2: 'benign', 4: 'malignant'})\n"
   ]
  },
  {
   "cell_type": "code",
   "execution_count": 91,
   "id": "6a42cd40",
   "metadata": {},
   "outputs": [],
   "source": [
    "# split dataset\n",
    "\n",
    "# Split data into features and target\n",
    "X = df.drop(['Sample', 'Class'], axis=1)\n",
    "y = df['Class']\n",
    "\n",
    "# Split data into training and testing sets\n",
    "X_train, X_test, y_train, y_test = train_test_split(X, y, test_size=0.3, random_state=77)\n",
    "\n"
   ]
  },
  {
   "cell_type": "code",
   "execution_count": 92,
   "id": "751c1c8b",
   "metadata": {},
   "outputs": [
    {
     "data": {
      "text/plain": [
       "GaussianNB()"
      ]
     },
     "execution_count": 92,
     "metadata": {},
     "output_type": "execute_result"
    }
   ],
   "source": [
    "# Create a Naive Bayes classifier\n",
    "nb_classifier = GaussianNB()\n",
    "\n",
    "# Train the classifier\n",
    "nb_classifier.fit(X_train, y_train)"
   ]
  },
  {
   "cell_type": "code",
   "execution_count": 93,
   "id": "77b72918",
   "metadata": {},
   "outputs": [],
   "source": [
    "# Make predictions on the test set\n",
    "y_pred = nb_classifier.predict(X_test)\n"
   ]
  },
  {
   "cell_type": "code",
   "execution_count": 94,
   "id": "1818084a",
   "metadata": {},
   "outputs": [
    {
     "name": "stdout",
     "output_type": "stream",
     "text": [
      "Accuracy: 0.9523809523809523\n"
     ]
    }
   ],
   "source": [
    "# Calculate accuracy\n",
    "accuracy = accuracy_score(y_test, y_pred)\n",
    "print(\"Accuracy:\", accuracy)"
   ]
  },
  {
   "cell_type": "code",
   "execution_count": 95,
   "id": "9d8fe054",
   "metadata": {},
   "outputs": [
    {
     "data": {
      "image/png": "[encoded data removed]",
      "text/plain": [
       "<Figure size 576x432 with 2 Axes>"
      ]
     },
     "metadata": {
      "needs_background": "light"
     },
     "output_type": "display_data"
    }
   ],
   "source": [
    "# confusion matrix\n",
    "\n",
    "cm = confusion_matrix(y_test, y_pred)\n",
    "\n",
    "plt.figure(figsize=(8, 6))\n",
    "sns.heatmap(cm, annot=True, fmt='d', cmap='Blues', xticklabels=['benign', 'malignant'], yticklabels=['benign', 'malignant'])\n",
    "plt.xlabel('Predicted Label')\n",
    "plt.ylabel('True Label')\n",
    "plt.title('Confusion Matrix')\n",
    "plt.show()"
   ]
  },
  {
   "cell_type": "code",
   "execution_count": 96,
   "id": "e2ad2dea",
   "metadata": {},
   "outputs": [
    {
     "name": "stdout",
     "output_type": "stream",
     "text": [
      "              precision    recall  f1-score   support\n",
      "\n",
      "      benign       0.98      0.94      0.96       138\n",
      "   malignant       0.90      0.97      0.93        72\n",
      "\n",
      "    accuracy                           0.95       210\n",
      "   macro avg       0.94      0.96      0.95       210\n",
      "weighted avg       0.95      0.95      0.95       210\n",
      "\n"
     ]
    }
   ],
   "source": [
    "# Classification report\n",
    "print(classification_report(y_test, y_pred))"
   ]
  }
 ],
 "metadata": {
  "kernelspec": {
   "display_name": "Python 3",
   "language": "python",
   "name": "python3"
  },
  "language_info": {
   "codemirror_mode": {
    "name": "ipython",
    "version": 3
   },
   "file_extension": ".py",
   "mimetype": "text/x-python",
   "name": "python",
   "nbconvert_exporter": "python",
   "pygments_lexer": "ipython3",
   "version": "3.8.8"
  }
 },
 "nbformat": 4,
 "nbformat_minor": 5
}
